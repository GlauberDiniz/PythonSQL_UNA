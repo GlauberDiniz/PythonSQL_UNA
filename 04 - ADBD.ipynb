{
 "cells": [
  {
   "cell_type": "markdown",
   "metadata": {},
   "source": [
    "# Criar tabela Categoria:"
   ]
  },
  {
   "cell_type": "code",
   "execution_count": 6,
   "metadata": {},
   "outputs": [],
   "source": [
    "# Importar biblioteca pyodbc:\n",
    "import pyodbc"
   ]
  },
  {
   "cell_type": "code",
   "execution_count": 7,
   "metadata": {},
   "outputs": [],
   "source": [
    "# Classe para conexão com o banco de dados:\n",
    "class ConexaoBD ():\n",
    "    def conectar (self):\n",
    "        return pyodbc.connect (driver = '{SQL Server}', server = 'DESKTOP-ATE5M9D\\SQLEXPRESS', database = 'empresa', trusted_connection = 'yes')\n",
    "\n",
    "# Pegar uma conexão com o banco de dados:\n",
    "bd = ConexaoBD ()\n",
    "conexao = bd.conectar ()"
   ]
  },
  {
   "cell_type": "code",
   "execution_count": 5,
   "metadata": {},
   "outputs": [],
   "source": [
    "# Classe Categoria:\n",
    "class Categoria:\n",
    "    def __init__ (self, conexao):\n",
    "        self.conexao = conexao\n",
    "    def Criar (self):\n",
    "        ddl = '''if not exists (select * from sysobjects where name='Categoria' and xtype='U')\n",
    "                    create table Categoria ( \n",
    "                                id int primary key identity (1, 1), -- identity (inicio, incremento): especifica o valor inicial e de incremento.\n",
    "                                nome varchar (32),\n",
    "                                descricao text\n",
    "                                ); '''\n",
    "        with self.conexao:\n",
    "            self.conexao.execute (ddl)\n",
    "    def Listar(self, id=0):\n",
    "        cursor = conexao.cursor ()\n",
    "        if id == 0:\n",
    "            cursor.execute('select * from Categoria;')\n",
    "        else:\n",
    "            cursor.execute('select * from Categoria where id = ' + str(id) +';')\n",
    "\n",
    "        for nome in cursor:\n",
    "            print (nome)"
   ]
  },
  {
   "cell_type": "code",
   "execution_count": 8,
   "metadata": {
    "tags": []
   },
   "outputs": [
    {
     "output_type": "error",
     "ename": "NameError",
     "evalue": "name 'Categoria' is not defined",
     "traceback": [
      "\u001b[1;31m---------------------------------------------------------------------------\u001b[0m",
      "\u001b[1;31mNameError\u001b[0m                                 Traceback (most recent call last)",
      "\u001b[1;32m<ipython-input-8-fda88993a779>\u001b[0m in \u001b[0;36m<module>\u001b[1;34m\u001b[0m\n\u001b[1;32m----> 1\u001b[1;33m \u001b[0mobjCategoria\u001b[0m \u001b[1;33m=\u001b[0m \u001b[0mCategoria\u001b[0m\u001b[1;33m(\u001b[0m\u001b[0mconexao\u001b[0m\u001b[1;33m)\u001b[0m\u001b[1;33m\u001b[0m\u001b[1;33m\u001b[0m\u001b[0m\n\u001b[0m\u001b[0;32m      2\u001b[0m \u001b[0mobjCategoria\u001b[0m\u001b[1;33m.\u001b[0m\u001b[0mCriar\u001b[0m\u001b[1;33m(\u001b[0m\u001b[1;33m)\u001b[0m\u001b[1;33m\u001b[0m\u001b[1;33m\u001b[0m\u001b[0m\n\u001b[0;32m      3\u001b[0m \u001b[0mobjCategoria\u001b[0m\u001b[1;33m.\u001b[0m\u001b[0mListar\u001b[0m\u001b[1;33m(\u001b[0m\u001b[1;33m)\u001b[0m\u001b[1;33m\u001b[0m\u001b[1;33m\u001b[0m\u001b[0m\n\u001b[0;32m      4\u001b[0m \u001b[0mobjCategoria\u001b[0m\u001b[1;33m.\u001b[0m\u001b[0mListar\u001b[0m\u001b[1;33m(\u001b[0m\u001b[1;36m2\u001b[0m\u001b[1;33m)\u001b[0m\u001b[1;33m\u001b[0m\u001b[1;33m\u001b[0m\u001b[0m\n",
      "\u001b[1;31mNameError\u001b[0m: name 'Categoria' is not defined"
     ]
    }
   ],
   "source": [
    "objCategoria = Categoria(conexao)\n",
    "objCategoria.Criar()\n",
    "objCategoria.Listar()\n",
    "objCategoria.Listar(2)"
   ]
  },
  {
   "cell_type": "code",
   "execution_count": 66,
   "metadata": {},
   "outputs": [],
   "source": [
    "# Classe Vendedor:\n",
    "class Vendedor:\n",
    "    def __init__ (self, conexao):\n",
    "        self.conexao = conexao\n",
    "    def Criar (self):\n",
    "        ddl = '''if not exists (select * from sysobjects where name='Vendedor' and xtype='U')\n",
    "                    CREATE TABLE Vendedor (\n",
    "                                            cpf varchar (14) primary key,\n",
    "                                            nome varchar (128),\n",
    "                                            email varchar (128),\n",
    "                                            telefone varchar (20),\n",
    "                                            endereco varchar (256)\n",
    "                                            );\n",
    "                                        '''\n",
    "        with self.conexao:\n",
    "            self.conexao.execute (ddl)\n",
    "    def Select(self, cpf=\"\"):\n",
    "        cursor = conexao.cursor ()\n",
    "        if cpf == \"\":\n",
    "            cursor.execute('select * from Vendedor;')\n",
    "        else:\n",
    "            cpf = cpf.replace(\"'\",\"\")\n",
    "            cpf = cpf.replace(\"=\",\"\")\n",
    "            cpf = cpf.replace(\"?\",\"\")\n",
    "            cursor.execute('''select * from Vendedor where cpf =''' + cpf +''';''')\n",
    "\n",
    "        for nome in cursor:\n",
    "            print (nome)"
   ]
  },
  {
   "cell_type": "code",
   "execution_count": 67,
   "metadata": {},
   "outputs": [],
   "source": [
    "objVendedor = Vendedor(conexao)\n",
    "objVendedor.Criar()\n",
    "objVendedor.Select()"
   ]
  },
  {
   "cell_type": "code",
   "execution_count": 9,
   "metadata": {},
   "outputs": [],
   "source": [
    "# Classe Produto:\n",
    "class Produto:\n",
    "    def __init__ (self, conexao):\n",
    "        self.conexao = conexao\n",
    "    def Criar (self):\n",
    "        ddl = ''' if not exists (select * from sysobjects where name='Produto' and xtype='U')\n",
    "                CREATE TABLE Produto (\n",
    "                        id int primary key identity (1, 1), -- identity (inicio, incremento): especifica o valor inicial e de incremento dos valores gerados para a primary key.\n",
    "                        nome varchar (128),\n",
    "                        descricao text,\n",
    "                        marca varchar (32),\n",
    "                        id_categoria int foreign key references Categoria (id)\n",
    "                        );\n",
    "                                        '''\n",
    "        with self.conexao:\n",
    "            self.conexao.execute (ddl)\n",
    "    def Listar(self, id=0):\n",
    "        cursor = conexao.cursor ()\n",
    "        if id == 0:\n",
    "            cursor.execute('select * from Produto;')\n",
    "        else:\n",
    "            cursor.execute('select * from Produto where id = ' + id +';')\n",
    "\n",
    "        for nome in cursor:\n",
    "            print (nome)"
   ]
  },
  {
   "cell_type": "code",
   "execution_count": 13,
   "metadata": {},
   "outputs": [
    {
     "output_type": "stream",
     "name": "stdout",
     "text": [
      "(1, 'Celular', 'Celular 1', 'Apple', 1)\n(2, 'Celular', 'Celular 2', 'Samsung', 1)\n(3, 'Celular', 'Celular 3', 'Xiaomi', 1)\n(4, 'Notebook', 'Notebook 1', 'Apple', 2)\n(5, 'Notebook', 'Notebook 2', 'Samsung', 2)\n(6, 'Notebook', 'Notebook 3', 'Xiaomi', 2)\n(7, 'Camisa', 'Camisa 1', 'Nike', 3)\n(8, 'Calça', 'Calça 1', 'Nike', 3)\n(9, 'Tênis', 'Tênis 1', 'Nike', 4)\n(10, 'Camisa', 'Camisa 2', 'Adidas', 3)\n(11, 'Calça', 'Calça 2', 'Adidas', 3)\n(12, 'Tênis', 'Tênis 2', 'Adidas', 4)\n(13, 'Camisa', 'Camisa 3', 'Zara', 3)\n(14, 'Calça', 'Calça 3', 'Zara', 3)\n(15, 'Tênis', 'Tênis 3', 'Zara', 4)\n"
     ]
    }
   ],
   "source": [
    "objProduto = Produto(conexao)\n",
    "objProduto.Criar()\n",
    "objProduto.Listar()"
   ]
  },
  {
   "cell_type": "code",
   "execution_count": 12,
   "metadata": {},
   "outputs": [],
   "source": [
    "# Classe VendedorProduto:\n",
    "class VendedorProduto:\n",
    "    def __init__ (self, conexao):\n",
    "        self.conexao = conexao\n",
    "    def Criar (self):\n",
    "        ddl = '''if not exists (select * from sysobjects where name='VendedorProduto' and xtype='U')\n",
    "                    CREATE TABLE VendedorProduto (\n",
    "                                                id int primary key identity (1, 1), -- identity (inicio, incremento): especifica o                                                 valor inicial e de incremento dos valores gerados para a primary key.\n",
    "                                                cpf_vendedor varchar (14) foreign key references Vendedor (cpf),\n",
    "                                                id_produto int foreign key references Produto (id),\n",
    "                                                quantidade int,\n",
    "                                                preco decimal\n",
    "                                                );\n",
    "                                        '''\n",
    "        with self.conexao:\n",
    "            self.conexao.execute (ddl)\n",
    "    def Listar(self, id=0):\n",
    "        cursor = conexao.cursor ()\n",
    "        if id == 0:\n",
    "            cursor.execute('select * from VendedorProduto;')\n",
    "        else:\n",
    "            cursor.execute('select * from VendedorProduto where id = ' + id +';')\n",
    "\n",
    "        for nome in cursor:\n",
    "            print (nome)"
   ]
  },
  {
   "cell_type": "code",
   "execution_count": 14,
   "metadata": {},
   "outputs": [
    {
     "output_type": "stream",
     "name": "stdout",
     "text": [
      "(1, '111.111.111-11', 1, 2, Decimal('4000'))\n(2, '111.111.111-11', 2, 3, Decimal('3000'))\n(3, '111.111.111-11', 3, 4, Decimal('1000'))\n(4, '111.111.111-11', 12, 2, Decimal('110'))\n(5, '222.222.222-22', 4, 3, Decimal('5000'))\n(6, '222.222.222-22', 5, 5, Decimal('4000'))\n(7, '222.222.222-22', 6, 6, Decimal('3000'))\n(8, '333.333.333-33', 7, 10, Decimal('50'))\n(9, '333.333.333-33', 14, 2, Decimal('88'))\n(10, '555.555.555-55', 7, 10, Decimal('45'))\n(11, '666.666.666-66', 9, 3, Decimal('120'))\n(12, '666.666.666-66', 14, 8, Decimal('78'))\n(13, '888.888.888-88', 10, 0, Decimal('40'))\n(14, '999.999.999-99', 11, 0, Decimal('87'))\n(15, '999.999.999-99', 1, 1, Decimal('5000'))\n"
     ]
    }
   ],
   "source": [
    "objVendedorProduto = VendedorProduto(conexao)\n",
    "objVendedorProduto.Criar()\n",
    "objVendedorProduto.Listar()"
   ]
  },
  {
   "cell_type": "code",
   "execution_count": null,
   "metadata": {},
   "outputs": [],
   "source": []
  }
 ],
 "metadata": {
  "language_info": {
   "codemirror_mode": {
    "name": "ipython",
    "version": 3
   },
   "file_extension": ".py",
   "mimetype": "text/x-python",
   "name": "python",
   "nbconvert_exporter": "python",
   "pygments_lexer": "ipython3",
   "version": "3.7.6-final"
  },
  "orig_nbformat": 2,
  "kernelspec": {
   "name": "python3",
   "display_name": "Python 3.7.6 64-bit (conda)",
   "metadata": {
    "interpreter": {
     "hash": "1b962963a6bb670d7ed207e7afec9dc3d3102a18b62a5651cb056d257a210f2c"
    }
   }
  }
 },
 "nbformat": 4,
 "nbformat_minor": 2
}