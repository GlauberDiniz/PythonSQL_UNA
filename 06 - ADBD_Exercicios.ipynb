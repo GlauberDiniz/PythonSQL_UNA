{
 "metadata": {
  "language_info": {
   "codemirror_mode": {
    "name": "ipython",
    "version": 3
   },
   "file_extension": ".py",
   "mimetype": "text/x-python",
   "name": "python",
   "nbconvert_exporter": "python",
   "pygments_lexer": "ipython3",
   "version": "3.6.8-final"
  },
  "orig_nbformat": 2,
  "kernelspec": {
   "name": "python37964bita3a38c2a38694006848774d05af17916",
   "display_name": "Python 3.7.9 64-bit"
  }
 },
 "nbformat": 4,
 "nbformat_minor": 2,
 "cells": [
  {
   "cell_type": "code",
   "execution_count": 41,
   "metadata": {},
   "outputs": [],
   "source": [
    "# Importar biblioteca pyodbc:\n",
    "import pyodbc\n",
    "\n",
    "# Importar a biblioteca Pandas:\n",
    "import pandas as pd\n",
    "import locale\n",
    "import ctypes \n",
    "\n",
    "# Classe para conexão com o banco de dados:\n",
    "class ConexaoBD ():\n",
    "    def conectar (self):\n",
    "        return pyodbc.connect (driver = '{SQL Server}', server = 'DESKTOP-ATE5M9D\\SQLEXPRESS', database ='empresa', trusted_connection = 'yes')\n",
    "        \n",
    "# Instanciar um objeto da classe para conexão com o banco de dados:\n",
    "bd = ConexaoBD ()\n",
    "\n",
    "# Pegar uma conexão com o banco de dados:\n",
    "conexao = bd.conectar ()"
   ]
  },
  {
   "cell_type": "code",
   "execution_count": 71,
   "metadata": {},
   "outputs": [],
   "source": [
    "# Classe Vendedor:\n",
    "class Vendedor:\n",
    "    def __init__ (self, conexao):\n",
    "        self.conexao = conexao\n",
    "   \n",
    "    def moeda(self,valor):\n",
    "        locale.setlocale(locale.LC_ALL, 'pt_BR.UTF-8')\n",
    "        valor = locale.currency(valor, grouping=True, symbol=None)\n",
    "        return ('R$ %s' % valor)\n",
    "    \n",
    "    def buscar (self):\n",
    "        sql = ''' select v.cpf as CPF, v.nome as Vendedor, v.email as 'E-mail'\n",
    "        from Vendedor v\n",
    "        '''\n",
    "        data_frame = pd.read_sql_query (sql, self.conexao)\n",
    "        print (data_frame)\n",
    "        print (type (data_frame))\n",
    "\n",
    "    def buscar_Like (self):\n",
    "        sql = ''' select Vendedor.cpf as CPF, Vendedor.nome as Vendedor from Vendedor\n",
    "        where Vendedor.nome like '%rl%';'''\n",
    "        data_frame = pd.read_sql_query (sql, self.conexao)\n",
    "        print (data_frame)\n",
    "        print (type (data_frame))\n",
    "\n",
    "# Questão 01   \n",
    "    def buscar_Vendedor_Por_Letra_Final_Nome (self):\n",
    "        \n",
    "        sql = \"Select nome as Vendedor from Vendedor\"\n",
    "        Letra = input (\"Informe uma letra para consultada do nome: \")\n",
    "        sql = sql + \" where nome like  '%\" + Letra +  \"';\"\n",
    "        print ('Os vendedores que possuem o nome terminado com a letra “' + Letra +  '” são: ')\n",
    "        cursor = self.conexao.cursor ()\n",
    "        cursor.execute (sql)\n",
    "        for nome in cursor: \n",
    "            print (nome)\n",
    "\n",
    "# Questão 02  \n",
    "    def buscar_Vendedor_Por_Valor_Produto (self):\n",
    "        \n",
    "        sql = \"Select Vendedor.nome as Vendedor,Produto.nome as Produto, VendedorProduto.preco as Preco\"\n",
    "        sql = sql +\" From Vendedor,  VendedorProduto, Produto\"\n",
    "        sql = sql +\" Where Vendedor.cpf = VendedorProduto.cpf_vendedor\"\n",
    "        sql = sql +\" And VendedorProduto.id_produto = Produto.id\"\n",
    "        resp = ctypes.windll.user32.MessageBoxW(0, \"Deseja consultar valores especificos?\", \"Atenção\",  3)\n",
    "        if(resp == 6):\n",
    "            VlrMax = input (\"Informe o valor máximo: \")\n",
    "            VlrMin = input (\"Informe o valor mínimo: \")\n",
    "            sql = sql + \" And (VendedorProduto.preco between \"+ VlrMin +\" and \"+ VlrMax +\")\"\n",
    "            print ('Os vendedores que possuem produtos com valor entre '+ VlrMin +' e '+ VlrMax +' são:')\n",
    "        else:\n",
    "            sql = sql + \" And ((VendedorProduto.preco between 10 and 50) or (VendedorProduto.preco between 100 and 500))\"\n",
    "            print ('Os vendedores que possuem produtos com valor entre $10 e $50 ou entre $100 e $500 são:')\n",
    "\n",
    "        sql = sql + \" Order by VendedorProduto.preco, Vendedor.nome, Produto.nome\"\n",
    "        cursor = self.conexao.cursor ()\n",
    "        cursor.execute (sql)\n",
    "        for nome in cursor: \n",
    "            print (nome)   \n",
    "\n",
    "# Questão 03\n",
    "    def buscar_Previsao_Vendas_Por_Vendendor (self):\n",
    "        resp = ctypes.windll.user32.MessageBoxW(0, \"Deseja consultar um vendedor especificos?\", \"Atenção\",  3)        \n",
    "        if(resp == 6):\n",
    "            NomeVendedor = input (\"Informe o nome do vendendor ou 'sair' para finalizar o processo :\")\n",
    "        else:\n",
    "            NomeVendedor = \"\"             \n",
    "\n",
    "        sql = \"Select Vendedor.nome as Vendedor, sum(VendedorProduto.preco * VendedorProduto.quantidade) as PrevisaoVendas\"\n",
    "        sql = sql +\" From Vendedor,  VendedorProduto\"\n",
    "        sql = sql +\" Where Vendedor.cpf = VendedorProduto.cpf_vendedor\"        \n",
    "        if (NomeVendedor != \"\"):  sql = sql +\" And nome like  '%\" + NomeVendedor +  \"%'\"\n",
    "        sql = sql + \" Group by Vendedor.nome\"\n",
    "        sql = sql +\" Order By 2\"\n",
    "        \n",
    "        cursor = self.conexao.cursor ()\n",
    "        cursor.execute (sql)\n",
    "        for PrevisaoVendas in cursor: \n",
    "            print ('O vendedor '+ PrevisaoVendas[0] +' receberá '+ self.moeda(PrevisaoVendas[1]) +' se todos os seus produtos forem vendidos.')\n",
    "\n",
    "# Questão 04\n",
    "    def buscar_Previsao_Vendas_Vendendor_Maior_Valor (self):\n",
    "        \n",
    "        sql = \"Select top 1 Vendedor.nome as Vendedor, \"\n",
    "        sql = sql +\"\t  sum(VendedorProduto.preco * VendedorProduto.quantidade) as PrevisaoVendas \"\n",
    "        sql = sql +\"  From Vendedor\"\n",
    "        sql = sql +\" Inner join VendedorProduto \"\n",
    "        sql = sql +\"    On Vendedor.cpf = VendedorProduto.cpf_vendedor \"\n",
    "        sql = sql +\" Group by Vendedor.nome\"\n",
    "        sql = sql +\" Order by 2 desc\"\n",
    "\n",
    "        cursor = self.conexao.cursor ()\n",
    "        cursor.execute (sql)\n",
    "        for PrevisaoVendas in cursor: \n",
    "            print ('O vendedor '+ PrevisaoVendas[0] +' receberá '+ self.moeda(PrevisaoVendas[1]) +' se vender todos os seus produtos sendo este o maior valor.')\n",
    "           \n",
    "# Questão 05\n",
    "    def buscar_Previsao_Total_Vendas_Geral (self):\n",
    "                \n",
    "        sql = \"Select sum(VendedorProduto.preco * VendedorProduto.quantidade) as PrevisaoVendas\"\n",
    "        sql = sql +\" From Vendedor,  VendedorProduto\"\n",
    "        sql = sql +\" Where Vendedor.cpf = VendedorProduto.cpf_vendedor\"\n",
    "        cursor = self.conexao.cursor ()\n",
    "        cursor.execute (sql)\n",
    "        for PrevisaoVendas in cursor: \n",
    "            print ('O valor total será '+ self.moeda(PrevisaoVendas[0]) +' se todos os seu produtos forem vendidos.')\n",
    "\n",
    "# Questão 06\n",
    "    def buscar_Previsao_Media_Total_Vendas_Geral (self):\n",
    "        \n",
    "        sql = \" Select cast(avg(PrevisaoVendas) as decimal(18,2)) as MediaPrevisaoVendas\"\n",
    "        sql = sql +\"  From (Select Vendedor.nome as Vendedor, \"\n",
    "        sql = sql +\"               sum(VendedorProduto.preco * VendedorProduto.quantidade) as PrevisaoVendas \"\n",
    "        sql = sql +\"          From Vendedor,  VendedorProduto Where Vendedor.cpf = VendedorProduto.cpf_vendedor Group by Vendedor.nome\"\n",
    "        sql = sql +\"        ) as Temp\"\n",
    "        \n",
    "        cursor = self.conexao.cursor ()\n",
    "        cursor.execute (sql)\n",
    "        for PrevisaoVendas in cursor: \n",
    "            print ('A média das vendas é R$ '+ self.moeda(PrevisaoVendas[0]) +' se todos os produtos forem vendidos.')\n",
    "\n",
    "# Questão 07\n",
    "    def buscar_Previsao_Vendedor_Acima_Media_Total_Vendas_Geral (self):\n",
    "\n",
    "        sql = \" Select Vendedor, PrevisaoVendas \"\n",
    "        sql = sql +\"    From (Select Vendedor.nome as Vendedor, sum(VendedorProduto.preco * VendedorProduto.quantidade) as PrevisaoVendas \"\n",
    "        sql = sql +\"  \t\t  From Vendedor,  VendedorProduto \"\n",
    "        sql = sql +\"  \t\t Where Vendedor.cpf = VendedorProduto.cpf_vendedor \"\n",
    "        sql = sql +\"  \t\t Group by Vendedor.nome \"\n",
    "        sql = sql +\"          ) as Temp \"\n",
    "        sql = sql +\"   Where PrevisaoVendas > (Select cast(avg(PrevisaoVendas) as decimal(18,2)) as MediaPrevisaoVendas \"\n",
    "        sql = sql +\"  \t\t\t\t\t\t   From (Select Vendedor.nome as Vendedor, \"\n",
    "        sql = sql +\"  \t\t\t\t\t\t\t\t        sum(VendedorProduto.preco * VendedorProduto.quantidade) as PrevisaoVendas \"\n",
    "        sql = sql +\"  \t\t\t\t\t\t\t\t   From Vendedor,  VendedorProduto Where Vendedor.cpf = VendedorProduto.cpf_vendedor \"\n",
    "        sql = sql +\"  \t\t\t\t\t\t\t\t  Group by Vendedor.nome \"\n",
    "        sql = sql +\"  \t\t\t\t\t\t\t\t ) as Temp) \"\n",
    "        \n",
    "        cursor = self.conexao.cursor ()\n",
    "        cursor.execute (sql)\n",
    "        print ('Os vendedores com previsão total de vendas acima da média são:')    \n",
    "        for PrevisaoVendas in cursor: \n",
    "            print ( PrevisaoVendas[0]  + ' com previsão de vendas de R$ '+ self.moeda(PrevisaoVendas[1]) +'.')               "
   ]
  },
  {
   "cell_type": "code",
   "execution_count": 72,
   "metadata": {},
   "outputs": [
    {
     "output_type": "stream",
     "name": "stdout",
     "text": [
      "Os vendedores que possuem o nome terminado com a letra “s” são: \n('Elis', )\n('Iris', )\n"
     ]
    }
   ],
   "source": [
    "#  1) Quais vendedores possuem o nome terminado com a letra “s”? \n",
    "#     Resp.: Elis e Iris.\n",
    "\n",
    "# Instanciar objeto da classe ConsultasGlobais:\n",
    "Vendedor = Vendedor (conexao)\n",
    "# Consulta os registros do banco de dados:\n",
    "Vendedor.buscar_Vendedor_Por_Letra_Final_Nome ()"
   ]
  },
  {
   "cell_type": "code",
   "execution_count": 73,
   "metadata": {},
   "outputs": [
    {
     "output_type": "stream",
     "name": "stdout",
     "text": [
      "Os vendedores que possuem produtos com valor entre $10 e $50 ou entre $100 e $500 são:\n('Heitor', 'Camisa', Decimal('40'))\n('Elis', 'Camisa', Decimal('45'))\n('Carla', 'Camisa', Decimal('50'))\n('Ana', 'Tênis', Decimal('110'))\n('Fábio', 'Tênis', Decimal('120'))\n"
     ]
    }
   ],
   "source": [
    "#  2) Quais vendedores possuem produtos com valor entre $10 e $50 ou entre $100 e $500?\n",
    "#     Resp.: Heitor, Elis, Carla, Ana e Fábio.\n",
    "\n",
    "# Instanciar objeto da classe ConsultasGlobais:\n",
    "\n",
    "# Consulta os registros do banco de dados:\n",
    "Vendedor.buscar_Vendedor_Por_Valor_Produto ()"
   ]
  },
  {
   "cell_type": "code",
   "execution_count": 74,
   "metadata": {},
   "outputs": [
    {
     "output_type": "stream",
     "name": "stdout",
     "text": [
      "O vendedor Ana receberá R$ 21.220,00 se todos os seus produtos forem vendidos.\n"
     ]
    }
   ],
   "source": [
    "#  3) Se Ana vender todos os seu produtos, quanto ela receberá? \n",
    "#     Resp.: $21.220.\n",
    "\n",
    "# Consulta os registros do banco de dados:\n",
    "# Vendedor.buscar()\n",
    "Vendedor.buscar_Previsao_Vendas_Por_Vendendor ()"
   ]
  },
  {
   "cell_type": "code",
   "execution_count": 75,
   "metadata": {},
   "outputs": [
    {
     "output_type": "stream",
     "name": "stdout",
     "text": [
      "O valor total será R$ 81.330,00 se todos os seu produtos forem vendidos.\n"
     ]
    }
   ],
   "source": [
    "#  4) Se todos os vendedores venderem todos os seu produtos, qual será o total apurado nas vendas?\n",
    "#     Resp.: $81.330.\n",
    "\n",
    "# Consulta os registros do banco de dados:\n",
    "Vendedor.buscar_Previsao_Total_Vendas_Geral()"
   ]
  },
  {
   "cell_type": "code",
   "execution_count": 66,
   "metadata": {},
   "outputs": [
    {
     "output_type": "stream",
     "name": "stdout",
     "text": [
      "O vendedor Bruno receberá R$ 53.000,00 se vender todos os seus produtos sendo este o maior valor.\n"
     ]
    }
   ],
   "source": [
    "#  5) Se todos os vendedores venderem todos os seu produtos, quem receberá o maior valor?\n",
    "#     Resp.: Bruno, $53.000.\n",
    "Vendedor.buscar_Previsao_Vendas_Vendendor_Maior_Valor ()"
   ]
  },
  {
   "cell_type": "code",
   "execution_count": 76,
   "metadata": {},
   "outputs": [
    {
     "output_type": "stream",
     "name": "stdout",
     "text": [
      "A média das vendas é R$ R$ 11.618,57 se todos os produtos forem vendidos.\n"
     ]
    }
   ],
   "source": [
    "#  6) Se todos os vendedores venderem todos os seu produtos, qual será o valor médio das vendas?\n",
    "#     Resp.: $11.618,57.\n",
    "Vendedor.buscar_Previsao_Media_Total_Vendas_Geral()"
   ]
  },
  {
   "cell_type": "code",
   "execution_count": 77,
   "metadata": {},
   "outputs": [
    {
     "output_type": "stream",
     "name": "stdout",
     "text": [
      "Os vendedores com previsão total de vendas acima da média são:\nAna com previsão de vendas de R$ R$ 21.220,00.\nBruno com previsão de vendas de R$ R$ 53.000,00.\n"
     ]
    }
   ],
   "source": [
    "#  7) Se todos os vendedores venderem todos os seu produtos, quem receberá acima da média? \n",
    "#     Resp.: Bruno ($53.000) e Ana ($21.220).\n",
    "Vendedor.buscar_Previsao_Vendedor_Acima_Media_Total_Vendas_Geral()"
   ]
  }
 ]
}