{
 "metadata": {
  "language_info": {
   "codemirror_mode": {
    "name": "ipython",
    "version": 3
   },
   "file_extension": ".py",
   "mimetype": "text/x-python",
   "name": "python",
   "nbconvert_exporter": "python",
   "pygments_lexer": "ipython3",
   "version": "3.6.8-final"
  },
  "orig_nbformat": 2,
  "kernelspec": {
   "name": "python3",
   "display_name": "Python 3.6.8 64-bit",
   "metadata": {
    "interpreter": {
     "hash": "773fd9c851c3dd620748d247e39e196e24048033d7342b7a42a3f6b9dca56fb5"
    }
   }
  }
 },
 "nbformat": 4,
 "nbformat_minor": 2,
 "cells": [
  {
   "cell_type": "code",
   "execution_count": 1,
   "metadata": {},
   "outputs": [],
   "source": [
    "# Importar biblioteca pyodbc:\n",
    "import pyodbc\n",
    "\n",
    "# Importar a biblioteca Pandas:\n",
    "import pandas as pd\n",
    "\n",
    "# Classe para conexão com o banco de dados:\n",
    "class ConexaoBD ():\n",
    "    def conectar (self):\n",
    "        return pyodbc.connect (driver = '{SQL Server}', server = 'DESKTOP-ATE5M9D\\SQLEXPRESS', database ='empresa', trusted_connection = 'yes')\n"
   ]
  },
  {
   "cell_type": "code",
   "execution_count": 2,
   "metadata": {},
   "outputs": [],
   "source": [
    "# Instanciar um objeto da classe para conexão com o banco de dados:\n",
    "bd = ConexaoBD ()\n",
    "\n",
    "# Pegar uma conexão com o banco de dados:\n",
    "conexao = bd.conectar ()"
   ]
  },
  {
   "cell_type": "code",
   "execution_count": 3,
   "metadata": {},
   "outputs": [],
   "source": [
    "# Classe Categoria:\n",
    "class Categoria:\n",
    "    def __init__ (self, conexao):\n",
    "        self.conexao = conexao\n",
    "    def inserir (self):\n",
    "        dml = ''' insert into Categoria (nome, descricao) values\n",
    "                ('Telefonia', 'Aparelho telefônico'),\n",
    "                ('Informática', 'Computador portátil'),\n",
    "                ('Roupa', 'Vestuário'),\n",
    "                ('Calçado', 'Vestuário');\n",
    "                '''\n",
    "        with self.conexao:\n",
    "            cursor = self.conexao.cursor ()\n",
    "            cursor.execute (dml)\n",
    "\n"
   ]
  },
  {
   "cell_type": "code",
   "execution_count": 4,
   "metadata": {},
   "outputs": [],
   "source": [
    "# Instanciar objeto da classe Categoria:\n",
    "categoria = Categoria (conexao)\n",
    "# Inserir um registro no banco de dados:\n",
    "categoria.inserir ()"
   ]
  },
  {
   "cell_type": "code",
   "execution_count": 5,
   "metadata": {},
   "outputs": [],
   "source": [
    "# Classe Vendedor:\n",
    "class Vendedor:\n",
    "    def __init__ (self, conexao):\n",
    "        self.conexao = conexao\n",
    "    def inserir (self):\n",
    "        dml = ''' insert into Vendedor (cpf, nome, email, telefone, endereco) values\n",
    "        ('111.111.111-11', 'Ana', 'ana@ana.com.br', '(11) 1 1111-1111', 'Rua n.1, n. 1, Bairro 1, Cidade 1, MG'),\n",
    "        ('222.222.222-22', 'Bruno', 'bruno@bruno.com.br', '(22) 2 2222-2222', 'Rua n.2, n. 2, Bairro 2, Cidade 2, MG'),\n",
    "        ('333.333.333-33', 'Carla', 'carla@carla.com.br', '(33) 3 3333-3333', 'Rua n.3, n. 3, Bairro 3, Cidade 3, MG'),\n",
    "        ('444.444.444-44', 'Diego', 'diego@diego.com.br', '(44) 4 4444-4444', 'Rua n.4, n. 4, Bairro 4, Cidade 4, MG'),\n",
    "        ('555.555.555-55', 'Elis', 'elis@elis.com.br', '(55) 5 5555-5555', 'Rua n.5, n. 5, Bairro 5, Cidade 5, MG'),\n",
    "        ('666.666.666-66', 'Fábio', 'fabio@fabio.com.br', '(66) 6 6666-6666', 'Rua n.6, n. 6, Bairro 6, Cidade 6, MG'),\n",
    "        ('777.777.777-77', 'Gisele', 'gisele@gisele.com.br', '(77) 7 7777-7777', 'Rua n.7, n. 7, Bairro 7, Cidade 7, MG'),\n",
    "        ('888.888.888-88', 'Heitor', 'heitor@heitor.com.br', '(88) 8 8888-8888', 'Rua n.8, n. 8, Bairro 8, Cidade 8, MG'),\n",
    "        ('999.999.999-99', 'Iris', 'iris@iris.com.br', '(99) 9 9999-9999', 'Rua n.9, n. 9, Bairro 9, Cidade 9, MG');\n",
    "        '''\n",
    "        with self.conexao:\n",
    "            cursor = self.conexao.cursor ()\n",
    "            cursor.execute (dml)\n",
    "\n",
    "    def buscar (self):\n",
    "        sql = ''' select v.cpf as CPF, v.nome as Vendedor, v.email as 'E-mail'\n",
    "        from Vendedor v\n",
    "        '''\n",
    "        with self.conexao:\n",
    "            cursor = self.conexao.cursor ()\n",
    "            cursor.execute (sql)\n",
    "            for linha in cursor:\n",
    "                print (linha)\n",
    "\n",
    "    def buscarPandas (self):\n",
    "        sql = ''' select v.cpf as CPF, v.nome as Vendedor, v.email as 'E-mail'\n",
    "        from Vendedor v\n",
    "        '''\n",
    "        data_frame = pd.read_sql_query (sql, self.conexao)\n",
    "        print (data_frame)\n",
    "        print (type (data_frame))\n",
    "\n",
    "    def pesquisarPandas (self):\n",
    "        sql = ''' select v.cpf as CPF, v.nome as Vendedor,\n",
    "                p.nome as Produto, p.marca as Marca,\n",
    "                c.nome as Categoria,\n",
    "                vp.quantidade as Qtde, vp.preco as Preço\n",
    "                from Vendedor v, VendedorProduto vp, Produto p, Categoria c\n",
    "                where v.cpf = vp.cpf_vendedor and\n",
    "                vp.id = p.id and\n",
    "                p.id_categoria = c.id;\n",
    "                '''\n",
    "        data_frame = pd.read_sql_query (sql, self.conexao)\n",
    "        print (data_frame)\n",
    "        print (type (data_frame))\n",
    "\n",
    "    def buscar_Like (self):\n",
    "        sql = ''' select v.cpf as CPF, v.nome as Vendedor from Vendedor v\n",
    "        where v.nome like '%rl%';'''\n",
    "        data_frame = pd.read_sql_query (sql, self.conexao)\n",
    "        print (data_frame)\n",
    "        print (type (data_frame))\n",
    "    def buscar_between (self):\n",
    "        sql = ''' select v.cpf as CPF, v.nome as Vendedor, p.nome as Produto, vp.preco as Preço\n",
    "        from Vendedor v, VendedorProduto vp, Produto p\n",
    "        where v.cpf = vp.cpf_vendedor and\n",
    "        vp.id_produto = p.id and\n",
    "        vp.preco between 80 and 200;\n",
    "        '''\n",
    "        data_frame = pd.read_sql_query (sql, self.conexao)\n",
    "        print (data_frame)\n",
    "        print (type (data_frame))\n",
    "\n",
    "    def buscar_subconsulta_IN (self):\n",
    "        sql = ''' select v.cpf as CPF, v.nome as Vendedor\n",
    "        from Vendedor v\n",
    "        where v.cpf in (select vp.cpf_vendedor\n",
    "        from VendedorProduto vp);\n",
    "        '''\n",
    "        data_frame = pd.read_sql_query (sql, self.conexao)\n",
    "        print (data_frame)\n",
    "        print (type (data_frame))\n",
    "\n",
    "    def buscar_subconsulta_Exists (self):\n",
    "        sql = ''' select v.cpf as CPF, v.nome as Vendedor\n",
    "        from Vendedor v\n",
    "        where exists (select vp.cpf_vendedor\n",
    "        from VendedorProduto vp\n",
    "        where v.cpf = vp.cpf_vendedor);\n",
    "        '''\n",
    "        data_frame = pd.read_sql_query (sql, self.conexao)\n",
    "        print (data_frame)\n",
    "        print (type (data_frame))\n",
    "\n",
    "    def buscar_subconsulta_Not_IN (self):\n",
    "        sql = ''' select v.cpf as CPF, v.nome as Vendedor\n",
    "        from Vendedor v\n",
    "        where v.cpf not in (select vp.cpf_vendedor\n",
    "        from VendedorProduto vp);\n",
    "        '''\n",
    "        data_frame = pd.read_sql_query (sql, self.conexao)\n",
    "        print (data_frame)\n",
    "        print (type (data_frame))\n",
    "\n",
    "    def buscar_subconsulta_Not_Exists (self):\n",
    "        sql = ''' select v.cpf as CPF, v.nome as Vendedor\n",
    "        from Vendedor v\n",
    "        where not exists (select vp.cpf_vendedor\n",
    "        from VendedorProduto vp\n",
    "        where v.cpf = vp.cpf_vendedor);\n",
    "        '''\n",
    "        data_frame = pd.read_sql_query (sql, self.conexao)\n",
    "        print (data_frame)\n",
    "        print (type (data_frame))\n",
    "\n",
    "    def buscar_inner_join (self):\n",
    "        sql = ''' select v.cpf as CPF, v.nome as Vendedor, vp.quantidade as Qtde, vp.preco as Preço, p.nome as Produto, c.nome as Categoria\n",
    "        from Vendedor v\n",
    "        inner join VendedorProduto vp on v.cpf = vp.cpf_vendedor\n",
    "        inner join Produto p on vp.id_produto = p.id\n",
    "        inner join Categoria c on p.id_categoria = c.id\n",
    "        order by v.cpf;\n",
    "        '''\n",
    "        data_frame = pd.read_sql_query (sql, self.conexao)\n",
    "        print (data_frame)\n",
    "        print (type (data_frame))\n",
    "\n",
    "    def buscar_left_join (self):\n",
    "        sql = ''' select v.cpf as CPF, v.nome as Vendedor, vp.quantidade as Qtde, vp.preco as Preço, p.nome as Produto, c.nome as Categoria\n",
    "        from Vendedor v\n",
    "        left join VendedorProduto vp on v.cpf = vp.cpf_vendedor\n",
    "        left join Produto p on vp.id_produto = p.id\n",
    "        left join Categoria c on p.id_categoria = c.id\n",
    "        order by v.cpf;\n",
    "        '''\n",
    "        data_frame = pd.read_sql_query (sql, self.conexao)\n",
    "        print (data_frame)\n",
    "        print (type (data_frame))\n",
    "\n",
    "    def buscar_right_join (self):\n",
    "        sql = ''' select v.cpf as CPF, v.nome as Vendedor, vp.quantidade as Qtde, vp.preco as Preço, p.nome as Produto, c.nome as Categoria\n",
    "        from Vendedor v\n",
    "        right join VendedorProduto vp on v.cpf = vp.cpf_vendedor\n",
    "        right join Produto p on vp.id_produto = p.id\n",
    "        right join Categoria c on p.id_categoria = c.id\n",
    "        order by v.cpf;\n",
    "        '''\n",
    "        data_frame = pd.read_sql_query (sql, self.conexao)\n",
    "        print (data_frame)\n",
    "        print (type (data_frame))\n",
    "\n",
    "    def buscar_full_join (self):\n",
    "        sql = ''' select v.cpf as CPF, v.nome as Vendedor, vp.quantidade as Qtde, vp.preco as Preço, p.nome as Produto, c.nome as Categoria\n",
    "        from Vendedor v\n",
    "        full join VendedorProduto vp on v.cpf = vp.cpf_vendedor\n",
    "        full join Produto p on vp.id_produto = p.id\n",
    "        full join Categoria c on p.id_categoria = c.id\n",
    "        order by v.cpf;\n",
    "        '''\n",
    "        data_frame = pd.read_sql_query (sql, self.conexao)     \n",
    "        print (data_frame)\n",
    "        print (type (data_frame))\n"
   ]
  },
  {
   "cell_type": "code",
   "execution_count": 6,
   "metadata": {},
   "outputs": [],
   "source": [
    "# Instanciar objeto da classe Vendedor:\n",
    "vendedor = Vendedor (conexao)\n",
    "# Inserir um registro no banco de dados:\n",
    "vendedor.inserir ()"
   ]
  },
  {
   "cell_type": "code",
   "execution_count": 7,
   "metadata": {
    "tags": []
   },
   "outputs": [
    {
     "output_type": "stream",
     "name": "stdout",
     "text": [
      "('111.111.111-11', 'Ana', 'ana@ana.com.br')\n('222.222.222-22', 'Bruno', 'bruno@bruno.com.br')\n('333.333.333-33', 'Carla', 'carla@carla.com.br')\n('444.444.444-44', 'Diego', 'diego@diego.com.br')\n('555.555.555-55', 'Elis', 'elis@elis.com.br')\n('666.666.666-66', 'Fábio', 'fabio@fabio.com.br')\n('777.777.777-77', 'Gisele', 'gisele@gisele.com.br')\n('888.888.888-88', 'Heitor', 'heitor@heitor.com.br')\n('999.999.999-99', 'Iris', 'iris@iris.com.br')\n"
     ]
    }
   ],
   "source": [
    "# Instanciar objeto da classe Vendedor:\n",
    "vendedor = Vendedor (conexao)\n",
    "# Ler os registros do banco de dados:\n",
    "vendedor.buscar ()\n"
   ]
  },
  {
   "cell_type": "code",
   "execution_count": 8,
   "metadata": {
    "tags": []
   },
   "outputs": [
    {
     "output_type": "stream",
     "name": "stdout",
     "text": [
      "              CPF Vendedor                E-mail\n0  111.111.111-11      Ana        ana@ana.com.br\n1  222.222.222-22    Bruno    bruno@bruno.com.br\n2  333.333.333-33    Carla    carla@carla.com.br\n3  444.444.444-44    Diego    diego@diego.com.br\n4  555.555.555-55     Elis      elis@elis.com.br\n5  666.666.666-66    Fábio    fabio@fabio.com.br\n6  777.777.777-77   Gisele  gisele@gisele.com.br\n7  888.888.888-88   Heitor  heitor@heitor.com.br\n8  999.999.999-99     Iris      iris@iris.com.br\n<class 'pandas.core.frame.DataFrame'>\n"
     ]
    }
   ],
   "source": [
    "# Instanciar objeto da classe Vendedor:\n",
    "vendedor = Vendedor (conexao)\n",
    "# Ler os registros do banco de dados:\n",
    "vendedor.buscarPandas ()"
   ]
  },
  {
   "cell_type": "code",
   "execution_count": 10,
   "metadata": {
    "tags": []
   },
   "outputs": [
    {
     "output_type": "stream",
     "name": "stdout",
     "text": [
      "Empty DataFrame\nColumns: [CPF, Vendedor, Produto, Marca, Categoria, Qtde, Preço]\nIndex: []\n<class 'pandas.core.frame.DataFrame'>\n"
     ]
    }
   ],
   "source": [
    "# Instanciar objeto da classe Vendedor:\n",
    "vendedor = Vendedor (conexao)\n",
    "# Ler os registros do banco de dados:\n",
    "vendedor.pesquisarPandas ()"
   ]
  },
  {
   "cell_type": "code",
   "execution_count": 11,
   "metadata": {
    "tags": []
   },
   "outputs": [
    {
     "output_type": "stream",
     "name": "stdout",
     "text": [
      "              CPF Vendedor\n0  333.333.333-33    Carla\n<class 'pandas.core.frame.DataFrame'>\n"
     ]
    }
   ],
   "source": [
    "# Instanciar objeto da classe Vendedor:\n",
    "vendedor = Vendedor (conexao)\n",
    "# Ler os registros do banco de dados:\n",
    "vendedor.buscar_Like ()\n"
   ]
  },
  {
   "cell_type": "code",
   "execution_count": 12,
   "metadata": {
    "tags": []
   },
   "outputs": [
    {
     "output_type": "stream",
     "name": "stdout",
     "text": [
      "Empty DataFrame\nColumns: [CPF, Vendedor, Produto, Preço]\nIndex: []\n<class 'pandas.core.frame.DataFrame'>\n"
     ]
    }
   ],
   "source": [
    "# Instanciar objeto da classe Vendedor:\n",
    "vendedor = Vendedor (conexao)\n",
    "# Ler os registros do banco de dados:\n",
    "vendedor.buscar_between ()"
   ]
  },
  {
   "cell_type": "code",
   "execution_count": 13,
   "metadata": {
    "tags": []
   },
   "outputs": [
    {
     "output_type": "stream",
     "name": "stdout",
     "text": [
      "Empty DataFrame\nColumns: [CPF, Vendedor]\nIndex: []\n<class 'pandas.core.frame.DataFrame'>\n"
     ]
    }
   ],
   "source": [
    "# Instanciar objeto da classe Vendedor:\n",
    "vendedor = Vendedor (conexao)\n",
    "# Ler os registros do banco de dados:\n",
    "vendedor.buscar_subconsulta_IN ()"
   ]
  },
  {
   "cell_type": "code",
   "execution_count": 14,
   "metadata": {
    "tags": []
   },
   "outputs": [
    {
     "output_type": "stream",
     "name": "stdout",
     "text": [
      "Empty DataFrame\nColumns: [CPF, Vendedor]\nIndex: []\n<class 'pandas.core.frame.DataFrame'>\n"
     ]
    }
   ],
   "source": [
    "# Instanciar objeto da classe Vendedor:\n",
    "vendedor = Vendedor (conexao)\n",
    "# Ler os registros do banco de dados:\n",
    "vendedor.buscar_subconsulta_Exists ()"
   ]
  },
  {
   "cell_type": "code",
   "execution_count": 15,
   "metadata": {
    "tags": []
   },
   "outputs": [
    {
     "output_type": "stream",
     "name": "stdout",
     "text": [
      "              CPF Vendedor\n0  111.111.111-11      Ana\n1  222.222.222-22    Bruno\n2  333.333.333-33    Carla\n3  444.444.444-44    Diego\n4  555.555.555-55     Elis\n5  666.666.666-66    Fábio\n6  777.777.777-77   Gisele\n7  888.888.888-88   Heitor\n8  999.999.999-99     Iris\n<class 'pandas.core.frame.DataFrame'>\n"
     ]
    }
   ],
   "source": [
    "# Instanciar objeto da classe Vendedor:\n",
    "vendedor = Vendedor (conexao)\n",
    "# Ler os registros do banco de dados:\n",
    "vendedor.buscar_subconsulta_Not_IN ()"
   ]
  },
  {
   "cell_type": "code",
   "execution_count": 16,
   "metadata": {
    "tags": []
   },
   "outputs": [
    {
     "output_type": "stream",
     "name": "stdout",
     "text": [
      "              CPF Vendedor\n0  111.111.111-11      Ana\n1  222.222.222-22    Bruno\n2  333.333.333-33    Carla\n3  444.444.444-44    Diego\n4  555.555.555-55     Elis\n5  666.666.666-66    Fábio\n6  777.777.777-77   Gisele\n7  888.888.888-88   Heitor\n8  999.999.999-99     Iris\n<class 'pandas.core.frame.DataFrame'>\n"
     ]
    }
   ],
   "source": [
    "# Instanciar objeto da classe Vendedor:\n",
    "vendedor = Vendedor (conexao)\n",
    "# Ler os registros do banco de dados:\n",
    "vendedor.buscar_subconsulta_Not_Exists ()"
   ]
  },
  {
   "cell_type": "code",
   "execution_count": 17,
   "metadata": {
    "tags": []
   },
   "outputs": [
    {
     "output_type": "stream",
     "name": "stdout",
     "text": [
      "Empty DataFrame\nColumns: [CPF, Vendedor, Qtde, Preço, Produto, Categoria]\nIndex: []\n<class 'pandas.core.frame.DataFrame'>\n"
     ]
    }
   ],
   "source": [
    "# Instanciar objeto da classe Vendedor:\n",
    "vendedor = Vendedor (conexao)\n",
    "# Ler os registros do banco de dados:\n",
    "vendedor.buscar_inner_join ()"
   ]
  },
  {
   "cell_type": "code",
   "execution_count": 105,
   "metadata": {
    "tags": []
   },
   "outputs": [
    {
     "output_type": "stream",
     "name": "stdout",
     "text": "CPF Vendedor  Qtde   Preço   Produto    Categoria\n0   111.111.111-11      Ana   2.0  4000.0   Celular    Telefonia\n1   111.111.111-11      Ana   3.0  3000.0   Celular    Telefonia\n2   111.111.111-11      Ana   4.0  1000.0   Celular    Telefonia\n3   111.111.111-11      Ana   2.0   110.0     Tênis      Calçado\n4   222.222.222-22    Bruno   3.0  5000.0  Notebook  Informática\n5   222.222.222-22    Bruno   5.0  4000.0  Notebook  Informática\n6   222.222.222-22    Bruno   6.0  3000.0  Notebook  Informática\n7   333.333.333-33    Carla  10.0    50.0    Camisa        Roupa\n8   333.333.333-33    Carla   2.0    88.0     Calça        Roupa\n9   444.444.444-44    Diego   NaN     NaN      None         None\n10  555.555.555-55     Elis  10.0    45.0    Camisa        Roupa\n11  666.666.666-66    Fábio   3.0   120.0     Tênis      Calçado\n12  666.666.666-66    Fábio   8.0    78.0     Calça        Roupa\n13  777.777.777-77   Gisele   NaN     NaN      None         None\n14  888.888.888-88   Heitor   0.0    40.0    Camisa        Roupa\n15  999.999.999-99     Iris   0.0    87.0     Calça        Roupa\n16  999.999.999-99     Iris   1.0  5000.0   Celular    Telefonia\n<class 'pandas.core.frame.DataFrame'>\n"
    }
   ],
   "source": [
    "# Instanciar objeto da classe Vendedor:\n",
    "vendedor = Vendedor (conexao)\n",
    "# Ler os registros do banco de dados:\n",
    "vendedor.buscar_left_join ()"
   ]
  },
  {
   "cell_type": "code",
   "execution_count": 18,
   "metadata": {
    "tags": []
   },
   "outputs": [
    {
     "output_type": "stream",
     "name": "stdout",
     "text": [
      "     CPF Vendedor  Qtde Preço Produto        Categoria\n0   None     None  None  None    None        Telefonia\n1   None     None  None  None    None      Informática\n2   None     None  None  None    None            Roupa\n3   None     None  None  None    None          Calçado\n4   None     None  None  None    None  categoria teste\n5   None     None  None  None    None        Telefonia\n6   None     None  None  None    None      Informática\n7   None     None  None  None    None            Roupa\n8   None     None  None  None    None          Calçado\n9   None     None  None  None    None        Telefonia\n10  None     None  None  None    None      Informática\n11  None     None  None  None    None            Roupa\n12  None     None  None  None    None          Calçado\n13  None     None  None  None    None        Telefonia\n14  None     None  None  None    None      Informática\n15  None     None  None  None    None            Roupa\n16  None     None  None  None    None          Calçado\n<class 'pandas.core.frame.DataFrame'>\n"
     ]
    }
   ],
   "source": [
    "# Instanciar objeto da classe Vendedor:\n",
    "vendedor = Vendedor (conexao)\n",
    "# Ler os registros do banco de dados:\n",
    "vendedor.buscar_right_join ()"
   ]
  },
  {
   "cell_type": "code",
   "execution_count": 23,
   "metadata": {
    "tags": []
   },
   "outputs": [
    {
     "output_type": "stream",
     "name": "stdout",
     "text": [
      "               CPF Vendedor  Qtde   Preço   Produto        Categoria\n0             None     None   NaN     NaN     Tênis          Calçado\n1             None     None   NaN     NaN    Camisa            Roupa\n2             None     None   NaN     NaN     Calça            Roupa\n3             None     None   NaN     NaN      None          Calçado\n4             None     None   NaN     NaN      None            Roupa\n5             None     None   NaN     NaN      None        Telefonia\n6             None     None   NaN     NaN      None      Informática\n7             None     None   NaN     NaN      None        Telefonia\n8             None     None   NaN     NaN      None          Calçado\n9             None     None   NaN     NaN      None  categoria teste\n10            None     None   NaN     NaN      None      Informática\n11            None     None   NaN     NaN      None            Roupa\n12  111.111.111-11      Ana   2.0  4000.0   Celular        Telefonia\n13  111.111.111-11      Ana   3.0  3000.0   Celular        Telefonia\n14  111.111.111-11      Ana   4.0  1000.0   Celular        Telefonia\n15  111.111.111-11      Ana   2.0   110.0     Tênis          Calçado\n16  222.222.222-22    Bruno   3.0  5000.0  Notebook      Informática\n17  222.222.222-22    Bruno   5.0  4000.0  Notebook      Informática\n18  222.222.222-22    Bruno   6.0  3000.0  Notebook      Informática\n19  333.333.333-33    Carla  10.0    50.0    Camisa            Roupa\n20  333.333.333-33    Carla   2.0    88.0     Calça            Roupa\n21  444.444.444-44    Diego   NaN     NaN      None             None\n22  555.555.555-55     Elis  10.0    45.0    Camisa            Roupa\n23  666.666.666-66    Fábio   3.0   120.0     Tênis          Calçado\n24  666.666.666-66    Fábio   8.0    78.0     Calça            Roupa\n25  777.777.777-77   Gisele   NaN     NaN      None             None\n26  888.888.888-88   Heitor   0.0    40.0    Camisa            Roupa\n27  999.999.999-99     Iris   0.0    87.0     Calça            Roupa\n28  999.999.999-99     Iris   1.0  5000.0   Celular        Telefonia\n<class 'pandas.core.frame.DataFrame'>\n"
     ]
    }
   ],
   "source": [
    "# Instanciar objeto da classe Vendedor:\n",
    "vendedor = Vendedor (conexao)\n",
    "# Ler os registros do banco de dados:\n",
    "vendedor.buscar_full_join ()"
   ]
  },
  {
   "cell_type": "code",
   "execution_count": 19,
   "metadata": {},
   "outputs": [],
   "source": [
    "# Classe Produto:\n",
    "class Produto:\n",
    "    def __init__ (self, conexao):\n",
    "        self.conexao = conexao\n",
    "    def inserir (self):\n",
    "        dml = ''' insert into Produto (nome, descricao, marca, id_categoria) values\n",
    "        ('Celular', 'Celular 1', 'Apple', 1),\n",
    "        ('Celular', 'Celular 2', 'Samsung', 1),\n",
    "        ('Celular', 'Celular 3', 'Xiaomi', 1),\n",
    "        ('Notebook', 'Notebook 1', 'Apple', 2),\n",
    "        ('Notebook', 'Notebook 2', 'Samsung', 2),\n",
    "        ('Notebook', 'Notebook 3', 'Xiaomi', 2),\n",
    "        ('Camisa', 'Camisa 1', 'Nike', 3),\n",
    "        ('Calça', 'Calça 1', 'Nike', 3),\n",
    "        ('Tênis', 'Tênis 1', 'Nike', 4),\n",
    "        ('Camisa', 'Camisa 2', 'Adidas', 3),\n",
    "        ('Calça', 'Calça 2', 'Adidas', 3),\n",
    "        ('Tênis', 'Tênis 2', 'Adidas', 4),\n",
    "        ('Camisa', 'Camisa 3', 'Zara', 3),\n",
    "        ('Calça', 'Calça 3', 'Zara', 3),\n",
    "        ('Tênis', 'Tênis 3', 'Zara', 4);\n",
    "        '''\n",
    "        with self.conexao:\n",
    "            cursor = self.conexao.cursor ()\n",
    "            cursor.execute (dml)\n",
    "    def buscar_distinct (self):\n",
    "        sql = ''' select distinct p.nome as Produto\n",
    "        from Produto p\n",
    "        '''\n",
    "        data_frame = pd.read_sql_query (sql, self.conexao)\n",
    "        print (data_frame)\n",
    "        print (type (data_frame))\n",
    "    def buscar_group_by (self):\n",
    "        sql = ''' select p.nome as Produto, c.nome as Categoria, vp.quantidade as Qtde, vp.preco as Preço\n",
    "            from Produto p, Categoria c, VendedorProduto vp\n",
    "            where vp.id_produto = p.id and\n",
    "            p.id_categoria = c.id\n",
    "            group by p.nome, c.nome, vp.quantidade, vp.preco\n",
    "            '''\n",
    "        data_frame = pd.read_sql_query (sql, self.conexao)\n",
    "        print (data_frame)\n",
    "        print (type (data_frame))\n",
    "    def buscar_having (self):\n",
    "        sql = ''' select p.nome as Produto, c.nome as Categoria, vp.quantidade as Qtde, vp.preco as Preço\n",
    "            from Produto p, Categoria c, VendedorProduto vp\n",
    "            where vp.id_produto = p.id and\n",
    "            p.id_categoria = c.id\n",
    "            group by p.nome, c.nome, vp.quantidade, vp.preco\n",
    "            having vp.preco > 500\n",
    "            '''\n",
    "        data_frame = pd.read_sql_query (sql, self.conexao)\n",
    "        print (data_frame)\n",
    "        print (type (data_frame))\n",
    "    def buscar_order_by (self):\n",
    "        sql = ''' select p.nome as Produto, c.nome as Categoria, vp.quantidade as Qtde, vp.preco as Preço\n",
    "        from Produto p, Categoria c, VendedorProduto vp\n",
    "        where vp.id_produto = p.id and\n",
    "        p.id_categoria = c.id\n",
    "        group by p.nome, c.nome, vp.quantidade, vp.preco\n",
    "        having vp.preco > 500\n",
    "        order by c.nome asc, vp.preco desc\n",
    "        '''\n",
    "        data_frame = pd.read_sql_query (sql, self.conexao)\n",
    "        print (data_frame)\n",
    "        print (type (data_frame))\n",
    "    def buscar_cross_join (self):\n",
    "        sql = ''' select p.nome as Produto, c.nome as Categoria\n",
    "        from Produto p\n",
    "        cross join Categoria c\n",
    "        order by p.nome, c.nome;\n",
    "        '''\n",
    "        data_frame = pd.read_sql_query (sql, self.conexao)\n",
    "        print (data_frame)\n",
    "        print (type (data_frame))\n"
   ]
  },
  {
   "cell_type": "code",
   "execution_count": 28,
   "metadata": {},
   "outputs": [],
   "source": [
    "# Instanciar objeto da classe Produto:\n",
    "produto = Produto (conexao)\n",
    "# Inserir um registro no banco de dados:\n",
    "produto.inserir ()"
   ]
  },
  {
   "cell_type": "code",
   "execution_count": 21,
   "metadata": {
    "tags": []
   },
   "outputs": [
    {
     "output_type": "stream",
     "name": "stdout",
     "text": [
      "    Produto\n0     Calça\n1    Camisa\n2   Celular\n3  Notebook\n4     Tênis\n<class 'pandas.core.frame.DataFrame'>\n"
     ]
    }
   ],
   "source": [
    "# Instanciar objeto da classe Produto:\n",
    "produto = Produto (conexao)\n",
    "# Ler os registros do banco de dados:\n",
    "produto.buscar_distinct ()"
   ]
  },
  {
   "cell_type": "code",
   "execution_count": 22,
   "metadata": {
    "tags": []
   },
   "outputs": [
    {
     "output_type": "stream",
     "name": "stdout",
     "text": [
      "Empty DataFrame\nColumns: [Produto, Categoria, Qtde, Preço]\nIndex: []\n<class 'pandas.core.frame.DataFrame'>\n"
     ]
    }
   ],
   "source": [
    "# Instanciar objeto da classe Produto:\n",
    "produto = Produto (conexao)\n",
    "# Ler os registros do banco de dados:\n",
    "produto.buscar_group_by ()"
   ]
  },
  {
   "cell_type": "code",
   "execution_count": 23,
   "metadata": {
    "tags": []
   },
   "outputs": [
    {
     "output_type": "stream",
     "name": "stdout",
     "text": [
      "Empty DataFrame\nColumns: [Produto, Categoria, Qtde, Preço]\nIndex: []\n<class 'pandas.core.frame.DataFrame'>\n"
     ]
    }
   ],
   "source": [
    "# Instanciar objeto da classe Produto:\n",
    "produto = Produto (conexao)\n",
    "# Ler os registros do banco de dados:\n",
    "produto.buscar_having ()"
   ]
  },
  {
   "cell_type": "code",
   "execution_count": 24,
   "metadata": {
    "tags": []
   },
   "outputs": [
    {
     "output_type": "stream",
     "name": "stdout",
     "text": [
      "Empty DataFrame\nColumns: [Produto, Categoria, Qtde, Preço]\nIndex: []\n<class 'pandas.core.frame.DataFrame'>\n"
     ]
    }
   ],
   "source": [
    "# Instanciar objeto da classe Produto:\n",
    "produto = Produto (conexao)\n",
    "# Ler os registros do banco de dados:\n",
    "produto.buscar_order_by ()"
   ]
  },
  {
   "cell_type": "code",
   "execution_count": 25,
   "metadata": {
    "tags": []
   },
   "outputs": [
    {
     "output_type": "stream",
     "name": "stdout",
     "text": [
      "    Produto  Categoria\n0     Calça    Calçado\n1     Calça    Calçado\n2     Calça    Calçado\n3     Calça    Calçado\n4     Calça    Calçado\n..      ...        ...\n250   Tênis  Telefonia\n251   Tênis  Telefonia\n252   Tênis  Telefonia\n253   Tênis  Telefonia\n254   Tênis  Telefonia\n\n[255 rows x 2 columns]\n<class 'pandas.core.frame.DataFrame'>\n"
     ]
    }
   ],
   "source": [
    "# Instanciar objeto da classe Produto:\n",
    "produto = Produto (conexao)\n",
    "# Ler os registros do banco de dados:\n",
    "produto.buscar_cross_join ()"
   ]
  },
  {
   "cell_type": "code",
   "execution_count": 26,
   "metadata": {},
   "outputs": [],
   "source": [
    "# Classe VendedorProduto:\n",
    "class VendedorProduto:\n",
    "    def __init__ (self, conexao):\n",
    "        self.conexao = conexao\n",
    "    def inserir (self):\n",
    "        dml = ''' insert into VendedorProduto (cpf_vendedor, id_produto, quantidade, preco) values\n",
    "        ('111.111.111-11', 1, 2, 4000),\n",
    "        ('111.111.111-11', 2, 3, 3000),\n",
    "        ('111.111.111-11', 3, 4, 1000),\n",
    "        ('111.111.111-11', 12, 2, 110),\n",
    "        ('222.222.222-22', 4, 3, 5000),\n",
    "        ('222.222.222-22', 5, 5, 4000),\n",
    "        ('222.222.222-22', 6, 6, 3000),\n",
    "        ('333.333.333-33', 7, 10, 50),\n",
    "        ('333.333.333-33', 14, 2, 88),\n",
    "        ('555.555.555-55', 7, 10, 45),\n",
    "        ('666.666.666-66', 9, 3, 120),\n",
    "        ('666.666.666-66', 14, 8, 78),\n",
    "        ('888.888.888-88', 10, 0, 40),\n",
    "        ('999.999.999-99', 11, 0, 87),\n",
    "        ('999.999.999-99', 1, 1, 5000);\n",
    "        '''\n",
    "        with self.conexao:\n",
    "            cursor = self.conexao.cursor ()\n",
    "            cursor.execute (dml)\n",
    "    def buscar_Agregada_MAX (self):\n",
    "        sql = ''' select max (preco) as 'Preço Máximo'\n",
    "        from VendedorProduto'''\n",
    "        data_frame = pd.read_sql_query (sql, self.conexao)\n",
    "        print (data_frame)\n",
    "        print (type (data_frame))\n",
    "    def buscar_Agregada_MIN (self):\n",
    "        sql = ''' select min (preco) as 'Preço minimo'\n",
    "        from VendedorProduto'''\n",
    "        data_frame = pd.read_sql_query (sql, self.conexao)\n",
    "        print (data_frame)\n",
    "        print (type (data_frame))\n",
    "    def buscar_Agregada_AVG (self):\n",
    "        sql = ''' select avg (preco) as 'Preço Máximo' from VendedorProduto '''\n",
    "        data_frame = pd.read_sql_query (sql, self.conexao)\n",
    "        print (data_frame)\n",
    "        print (type (data_frame))\n",
    "    def buscar_Agregada_SUM (self):\n",
    "        sql = ''' select sum (preco) as 'Preço Máximo'\n",
    "        from VendedorProduto'''\n",
    "        data_frame = pd.read_sql_query (sql, self.conexao)\n",
    "        print (data_frame)\n",
    "        print (type (data_frame))\n",
    "    def buscar_Agregada_COUNT (self):\n",
    "        sql = ''' select count (id) as 'Contagem'\n",
    "        from VendedorProduto'''\n",
    "        data_frame = pd.read_sql_query (sql, self.conexao)\n",
    "        print (data_frame)\n",
    "        print (type (data_frame))\n"
   ]
  },
  {
   "cell_type": "code",
   "execution_count": 29,
   "metadata": {},
   "outputs": [],
   "source": [
    "# Instanciar objeto da classe VendedorProduto:\n",
    "vendedor_produto = VendedorProduto (conexao)\n",
    "# Inserir um registro no banco de dados:\n",
    "vendedor_produto.inserir ()"
   ]
  },
  {
   "cell_type": "code",
   "execution_count": 30,
   "metadata": {
    "tags": []
   },
   "outputs": [
    {
     "output_type": "stream",
     "name": "stdout",
     "text": [
      "   Preço Máximo\n0        5000.0\n<class 'pandas.core.frame.DataFrame'>\n"
     ]
    }
   ],
   "source": [
    "# Instanciar objeto da classe VendedorProduto:\n",
    "vendedor_produto = VendedorProduto (conexao)\n",
    "# Ler os registros do banco de dados:\n",
    "vendedor_produto.buscar_Agregada_MAX ()"
   ]
  },
  {
   "cell_type": "code",
   "execution_count": 31,
   "metadata": {
    "tags": []
   },
   "outputs": [
    {
     "output_type": "stream",
     "name": "stdout",
     "text": [
      "   Preço minimo\n0          40.0\n<class 'pandas.core.frame.DataFrame'>\n"
     ]
    }
   ],
   "source": [
    "# Instanciar objeto da classe VendedorProduto:\n",
    "vendedor_produto = VendedorProduto (conexao)\n",
    "# Ler os registros do banco de dados:\n",
    "vendedor_produto.buscar_Agregada_MIN ()"
   ]
  },
  {
   "cell_type": "code",
   "execution_count": 32,
   "metadata": {
    "tags": []
   },
   "outputs": [
    {
     "output_type": "stream",
     "name": "stdout",
     "text": [
      "   Preço Máximo\n0   1707.866666\n<class 'pandas.core.frame.DataFrame'>\n"
     ]
    }
   ],
   "source": [
    "# Instanciar objeto da classe VendedorProduto:\n",
    "vendedor_produto = VendedorProduto (conexao)\n",
    "# Ler os registros do banco de dados:\n",
    "vendedor_produto.buscar_Agregada_AVG ()"
   ]
  },
  {
   "cell_type": "code",
   "execution_count": 33,
   "metadata": {
    "tags": []
   },
   "outputs": [
    {
     "output_type": "stream",
     "name": "stdout",
     "text": [
      "   Preço Máximo\n0       25618.0\n<class 'pandas.core.frame.DataFrame'>\n"
     ]
    }
   ],
   "source": [
    "# Instanciar objeto da classe VendedorProduto:\n",
    "vendedor_produto = VendedorProduto (conexao)\n",
    "# Ler os registros do banco de dados:\n",
    "vendedor_produto.buscar_Agregada_SUM ()"
   ]
  },
  {
   "cell_type": "code",
   "execution_count": 35,
   "metadata": {
    "tags": []
   },
   "outputs": [
    {
     "output_type": "stream",
     "name": "stdout",
     "text": [
      "   Contagem\n0        15\n<class 'pandas.core.frame.DataFrame'>\n"
     ]
    }
   ],
   "source": [
    "# Instanciar objeto da classe VendedorProduto:\n",
    "vendedor_produto = VendedorProduto (conexao)\n",
    "# Ler os registros do banco de dados:\n",
    "vendedor_produto.buscar_Agregada_COUNT ()"
   ]
  }
 ]
}